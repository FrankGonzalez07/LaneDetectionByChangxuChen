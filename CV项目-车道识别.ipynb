{
  "nbformat": 4,
  "nbformat_minor": 0,
  "metadata": {
    "colab": {
      "name": "SelfDriving-LaneDetection.ipynb",
      "provenance": [],
      "collapsed_sections": []
    },
    "kernelspec": {
      "name": "python3",
      "display_name": "Python 3"
    },
    "language_info": {
      "name": "python"
    }
  },
  "cells": [
    {
      "cell_type": "code",
      "metadata": {
        "colab": {
          "base_uri": "https://localhost:8080/"
        },
        "id": "KJCHoadzqd1b",
        "outputId": "652450e7-35a1-467c-8096-a352afd62b2e"
      },
      "source": [
        "!git clone https://github.com/FrankGonzalez07/LaneDetectionByChangxuChen.git\n",
        "%cd LaneDetectionByChangxuChen/"
      ],
      "execution_count": 1,
      "outputs": [
        {
          "output_type": "stream",
          "text": [
            "Cloning into 'LaneDetectionByChangxuChen'...\n",
            "remote: Enumerating objects: 243, done.\u001b[K\n",
            "remote: Counting objects: 100% (94/94), done.\u001b[K\n",
            "remote: Compressing objects: 100% (94/94), done.\u001b[K\n",
            "remote: Total 243 (delta 49), reused 0 (delta 0), pack-reused 149\u001b[K\n",
            "Receiving objects: 100% (243/243), 58.54 MiB | 34.61 MiB/s, done.\n",
            "Resolving deltas: 100% (72/72), done.\n",
            "/content/LaneDetectionByChangxuChen\n"
          ],
          "name": "stdout"
        }
      ]
    },
    {
      "cell_type": "code",
      "metadata": {
        "colab": {
          "base_uri": "https://localhost:8080/"
        },
        "id": "oIOqYarbqeuW",
        "outputId": "f08d7030-bb55-41b4-a8b2-47b44a4178b4"
      },
      "source": [
        "import numpy as np\n",
        "import matplotlib.image as mpimg\n",
        "import cv2\n",
        "from docopt import docopt\n",
        "from IPython.display import HTML\n",
        "from IPython.core.display import Video\n",
        "from moviepy.editor import VideoFileClip\n",
        "from Calibrator import Calibrator\n",
        "from Thresholding import *\n",
        "from PerspectiveTransformation import *\n",
        "from LaneLinesDetection import *\n",
        "import matplotlib as plt\n",
        "plt.rcParams['font.sans-serif']=['SimHei']\n",
        "plt.rcParams['axes.unicode_minus']=False\n",
        "\n",
        "class FindLaneLines:\n",
        "    def __init__(self):\n",
        "        self.calibration = Calibrator('CameraCalibratorImages', 9, 6)\n",
        "        self.thresholding = Thresholding()\n",
        "        self.transform = PerspectiveTransformation()\n",
        "        self.lanelines = LaneLinesDetection()\n",
        "\n",
        "    def forward(self, img):\n",
        "        out_img = np.copy(img)\n",
        "        img = self.calibration.undistort(img)\n",
        "        img = self.transform.forward(img)\n",
        "        img = self.thresholding.forward(img)\n",
        "        img = self.lanelines.forward(img)\n",
        "        img = self.transform.backward(img)\n",
        "\n",
        "        out_img = cv2.addWeighted(out_img, 1, img, 0.6, 0)\n",
        "        out_img = self.lanelines.plot(out_img)\n",
        "        return out_img\n",
        "\n",
        "    def process_image(self, input_path, output_path):\n",
        "        img = mpimg.imread(input_path)\n",
        "        out_img = self.forward(img)\n",
        "        mpimg.imsave(output_path, out_img)\n",
        "\n",
        "    def process_video(self, input_path, output_path):\n",
        "        clip = VideoFileClip(input_path)\n",
        "        out_clip = clip.fl_image(self.forward)\n",
        "        out_clip.write_videofile(output_path, audio=False)\n",
        "\n",
        "def main():\n",
        "    findLaneLines = FindLaneLines()\n",
        "    findLaneLines.process_video(\"测试视频.mp4\",\"output.mp4\")\n",
        "\n",
        "if __name__ == \"__main__\":\n",
        "    main()"
      ],
      "execution_count": 2,
      "outputs": [
        {
          "output_type": "stream",
          "text": [
            "Imageio: 'ffmpeg-linux64-v3.3.1' was not found on your computer; downloading it now.\n",
            "Try 1. Download from https://github.com/imageio/imageio-binaries/raw/master/ffmpeg/ffmpeg-linux64-v3.3.1 (43.8 MB)\n",
            "Downloading: 8192/45929032 bytes (0.0%)\b\b\b\b\b\b\b\b\b\b\b\b\b\b\b\b\b\b\b\b\b\b\b\b\b\b3153920/45929032 bytes (6.9%)\b\b\b\b\b\b\b\b\b\b\b\b\b\b\b\b\b\b\b\b\b\b\b\b\b\b\b\b\b6037504/45929032 bytes (13.1%)\b\b\b\b\b\b\b\b\b\b\b\b\b\b\b\b\b\b\b\b\b\b\b\b\b\b\b\b\b\b9043968/45929032 bytes (19.7%)\b\b\b\b\b\b\b\b\b\b\b\b\b\b\b\b\b\b\b\b\b\b\b\b\b\b\b\b\b\b12222464/45929032 bytes (26.6%)\b\b\b\b\b\b\b\b\b\b\b\b\b\b\b\b\b\b\b\b\b\b\b\b\b\b\b\b\b\b\b15384576/45929032 bytes (33.5%)\b\b\b\b\b\b\b\b\b\b\b\b\b\b\b\b\b\b\b\b\b\b\b\b\b\b\b\b\b\b\b18563072/45929032 bytes (40.4%)\b\b\b\b\b\b\b\b\b\b\b\b\b\b\b\b\b\b\b\b\b\b\b\b\b\b\b\b\b\b\b21798912/45929032 bytes (47.5%)\b\b\b\b\b\b\b\b\b\b\b\b\b\b\b\b\b\b\b\b\b\b\b\b\b\b\b\b\b\b\b24690688/45929032 bytes (53.8%)\b\b\b\b\b\b\b\b\b\b\b\b\b\b\b\b\b\b\b\b\b\b\b\b\b\b\b\b\b\b\b27705344/45929032 bytes (60.3%)\b\b\b\b\b\b\b\b\b\b\b\b\b\b\b\b\b\b\b\b\b\b\b\b\b\b\b\b\b\b\b30826496/45929032 bytes (67.1%)\b\b\b\b\b\b\b\b\b\b\b\b\b\b\b\b\b\b\b\b\b\b\b\b\b\b\b\b\b\b\b33759232/45929032 bytes (73.5%)\b\b\b\b\b\b\b\b\b\b\b\b\b\b\b\b\b\b\b\b\b\b\b\b\b\b\b\b\b\b\b36782080/45929032 bytes (80.1%)\b\b\b\b\b\b\b\b\b\b\b\b\b\b\b\b\b\b\b\b\b\b\b\b\b\b\b\b\b\b\b39632896/45929032 bytes (86.3%)\b\b\b\b\b\b\b\b\b\b\b\b\b\b\b\b\b\b\b\b\b\b\b\b\b\b\b\b\b\b\b42688512/45929032 bytes (92.9%)\b\b\b\b\b\b\b\b\b\b\b\b\b\b\b\b\b\b\b\b\b\b\b\b\b\b\b\b\b\b\b45875200/45929032 bytes (99.9%)\b\b\b\b\b\b\b\b\b\b\b\b\b\b\b\b\b\b\b\b\b\b\b\b\b\b\b\b\b\b\b45929032/45929032 bytes (100.0%)\n",
            "  Done\n",
            "File saved as /root/.imageio/ffmpeg/ffmpeg-linux64-v3.3.1.\n",
            "[MoviePy] >>>> Building video output.mp4\n",
            "[MoviePy] Writing video output.mp4\n"
          ],
          "name": "stdout"
        },
        {
          "output_type": "stream",
          "text": [
            "100%|██████████| 485/485 [01:12<00:00,  6.73it/s]\n"
          ],
          "name": "stderr"
        },
        {
          "output_type": "stream",
          "text": [
            "[MoviePy] Done.\n",
            "[MoviePy] >>>> Video ready: output.mp4 \n",
            "\n"
          ],
          "name": "stdout"
        }
      ]
    },
    {
      "cell_type": "code",
      "metadata": {
        "id": "i-UGuWCuqgmd"
      },
      "source": [
        ""
      ],
      "execution_count": null,
      "outputs": []
    }
  ]
}